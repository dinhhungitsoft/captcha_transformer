{
 "cells": [
  {
   "cell_type": "code",
   "execution_count": 11,
   "metadata": {},
   "outputs": [],
   "source": [
    "import os\n",
    "import glob\n",
    "import torch\n",
    "import numpy as np\n",
    "from sklearn import preprocessing\n",
    "from sklearn import model_selection\n",
    "from sklearn import metrics\n",
    "import matplotlib.pyplot as plt\n",
    "import config\n",
    "import dataset\n",
    "%matplotlib inline"
   ]
  },
  {
   "cell_type": "code",
   "execution_count": 24,
   "metadata": {},
   "outputs": [
    {
     "name": "stderr",
     "output_type": "stream",
     "text": [
      "Clipping input data to the valid range for imshow with RGB data ([0..1] for floats or [0..255] for integers).\n",
      "Clipping input data to the valid range for imshow with RGB data ([0..1] for floats or [0..255] for integers).\n",
      "Clipping input data to the valid range for imshow with RGB data ([0..1] for floats or [0..255] for integers).\n",
      "Clipping input data to the valid range for imshow with RGB data ([0..1] for floats or [0..255] for integers).\n",
      "Clipping input data to the valid range for imshow with RGB data ([0..1] for floats or [0..255] for integers).\n"
     ]
    },
    {
     "name": "stdout",
     "output_type": "stream",
     "text": [
      "19\n"
     ]
    },
    {
     "data": {
      "image/png": "[encoded data removed]",
      "text/plain": [
       "<Figure size 432x288 with 5 Axes>"
      ]
     },
     "metadata": {
      "needs_background": "light"
     },
     "output_type": "display_data"
    }
   ],
   "source": [
    "image_files = glob.glob(os.path.join(\"/home/hung/learn/pytorch/ctc/data/captcha_images_v2\", \"*.png\"))\n",
    "\n",
    "# Get labels\n",
    "targets_orig = [x.split(\"/\")[-1][:-4] for x in image_files]\n",
    "targets = [[c for c in x] for x in targets_orig]\n",
    "\n",
    "targets_flat = [c for char_arr in targets for c in char_arr]\n",
    "lbl_encoder = preprocessing.LabelEncoder()\n",
    "lbl_encoder.fit(targets_flat)\n",
    "\n",
    "targets_enc = [lbl_encoder.transform(char_array) for char_array in targets]\n",
    "targets_enc = np.array(targets_enc) + 1\n",
    "\n",
    "# print(targets)\n",
    "print(len(np.unique(targets_flat)))\n",
    "\n",
    "(train_imgs, test_imgs, train_targets, test_targets, train_orig_targets, test_orig_targets) = model_selection.train_test_split(\n",
    "    image_files, targets_enc, targets_orig, test_size=0.1, random_state=42)\n",
    "\n",
    "train_dataset = dataset.ClassificationDataset(train_imgs, train_targets, resize=(config.IMAGE_HEIGHT, config.IMAGE_WIDTH))\n",
    "\n",
    "# img = train_dataset[0][\"images\"].numpy().transpose(1,2,0)\n",
    "# plt.imshow(img)\n",
    "# plt.show()\n",
    "\n",
    "fig, ax = plt.subplots(1, 5)\n",
    "for i in range(5):\n",
    "    img = train_dataset[i][\"images\"].numpy().transpose(1,2,0)\n",
    "    ax[i].imshow(img)\n",
    "plt.show()"
   ]
  },
  {
   "cell_type": "code",
   "execution_count": 17,
   "metadata": {},
   "outputs": [
    {
     "data": {
      "text/plain": [
       "(50, 200, 3)"
      ]
     },
     "execution_count": 17,
     "metadata": {},
     "output_type": "execute_result"
    }
   ],
   "source": [
    "img.shape"
   ]
  }
 ],
 "metadata": {
  "interpreter": {
   "hash": "070cb9b23fdacd18f3423c20f34388b8c6cd0966116e79ce65fcb98d25bf2cc1"
  },
  "kernelspec": {
   "display_name": "Python 3.7.11 ('pytorch')",
   "language": "python",
   "name": "python3"
  },
  "language_info": {
   "codemirror_mode": {
    "name": "ipython",
    "version": 3
   },
   "file_extension": ".py",
   "mimetype": "text/x-python",
   "name": "python",
   "nbconvert_exporter": "python",
   "pygments_lexer": "ipython3",
   "version": "3.7.11"
  },
  "orig_nbformat": 4
 },
 "nbformat": 4,
 "nbformat_minor": 2
}
